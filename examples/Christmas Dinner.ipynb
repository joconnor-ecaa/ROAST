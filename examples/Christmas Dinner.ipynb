{
 "cells": [
  {
   "cell_type": "code",
   "execution_count": null,
   "metadata": {},
   "outputs": [],
   "source": [
    "#!pip install --pre roastmaster\n",
    "from roastmaster import Dish, System, Session, Oven\n",
    "import pandas as pd\n",
    "import matplotlib.pyplot as plt\n",
    "from datetime import time"
   ]
  },
  {
   "cell_type": "code",
   "execution_count": null,
   "metadata": {},
   "outputs": [],
   "source": [
    "# Note: PuLP can run into trouble if repeatedly building solvers in a notebook environment.\n",
    "# Safest bet is to hit `Restart & Run All` after making changes."
   ]
  },
  {
   "cell_type": "code",
   "execution_count": null,
   "metadata": {},
   "outputs": [],
   "source": [
    "# size should be defined relative to one oven shelf. Size=1 -> one whole shelf\n",
    "dish_conf = [\n",
    "    Dish(name=\"potatoes\", size=1, cooking_time_mins=60, serve_hot_weight=5),\n",
    "    Dish(name=\"stuffing\", size=0.5, cooking_time_mins=30, serve_hot_weight=2),\n",
    "    Dish(name=\"nut_roast\", size=0.25, cooking_time_mins=60, serve_hot_weight=3),\n",
    "    Dish(name=\"yorkshires\", size=0.5, cooking_time_mins=10, serve_hot_weight=5),\n",
    "    Dish(name=\"cauliflower_cheese\", size=0.5, cooking_time_mins=30, serve_hot_weight=3),\n",
    "]\n",
    "\n",
    "system_conf = System(\n",
    "    # all times defined in minutes\n",
    "    total_time=120,  # total time allowed for cooking\n",
    "    # problem is defined on a fixed time grid -- smaller increment allows finer control but will increase solving time\n",
    "    time_increment=5,\n",
    "    dinner_time=time(16,00),  # serve dinner at 4pm\n",
    "    # dish is not considered to be cooking until it's been in the oven for `warm_up_time` minutes\n",
    "    warm_up_time=5,\n",
    "    oven=Oven(name=\"oven\"),\n",
    ")\n",
    "opt = Session(system_conf, dish_conf)\n",
    "opt.solve()\n",
    "results = opt.get_results()"
   ]
  },
  {
   "cell_type": "code",
   "execution_count": null,
   "metadata": {},
   "outputs": [],
   "source": [
    "# plot outputs\n",
    "\n",
    "results = opt.get_results()\n",
    "\n",
    "raw_results = results.dish_results\n",
    "is_in = pd.DataFrame({name: df[\"is_in\"] for name, df in raw_results.items()})\n",
    "time_cooked = pd.DataFrame({name: df[\"time_cooked\"] for name, df in raw_results.items()})\n",
    "\n",
    "is_in.plot()\n",
    "plt.title(\"Dish in-ness\")\n",
    "\n",
    "time_cooked.plot()\n",
    "plt.title(\"Time cooked (mins)\")"
   ]
  },
  {
   "cell_type": "code",
   "execution_count": null,
   "metadata": {},
   "outputs": [],
   "source": [
    "results.print_instructions()"
   ]
  },
  {
   "cell_type": "code",
   "execution_count": null,
   "metadata": {},
   "outputs": [],
   "source": []
  }
 ],
 "metadata": {
  "kernelspec": {
   "display_name": "Python 3",
   "language": "python",
   "name": "python3"
  },
  "language_info": {
   "codemirror_mode": {
    "name": "ipython",
    "version": 3
   },
   "file_extension": ".py",
   "mimetype": "text/x-python",
   "name": "python",
   "nbconvert_exporter": "python",
   "pygments_lexer": "ipython3",
   "version": "3.12.0"
  }
 },
 "nbformat": 4,
 "nbformat_minor": 4
}
